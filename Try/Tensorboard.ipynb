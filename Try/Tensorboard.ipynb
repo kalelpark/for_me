{
 "cells": [
  {
   "cell_type": "code",
   "execution_count": 13,
   "id": "88863175",
   "metadata": {},
   "outputs": [],
   "source": [
    "import tensorflow as tf\n",
    "from tensorflow.keras.datasets import mnist\n",
    "from tensorflow.keras import layers\n",
    "from tensorflow.keras.utils import to_categorical\n",
    "from tensorflow.keras.models import Sequential\n",
    "from tensorflow.keras.callbacks import TensorBoard"
   ]
  },
  {
   "cell_type": "code",
   "execution_count": 11,
   "id": "7e48bd4d",
   "metadata": {
    "scrolled": true
   },
   "outputs": [
    {
     "name": "stdout",
     "output_type": "stream",
     "text": [
      "Epoch 1/20\n",
      "375/375 [==============================] - 2s 4ms/step - loss: 0.2844 - acc: 0.9165 - val_loss: 0.0865 - val_acc: 0.9754\n",
      "Epoch 2/20\n",
      "375/375 [==============================] - 1s 4ms/step - loss: 0.0708 - acc: 0.9785 - val_loss: 0.0574 - val_acc: 0.9843\n",
      "Epoch 3/20\n",
      "375/375 [==============================] - 1s 4ms/step - loss: 0.0492 - acc: 0.9850 - val_loss: 0.0515 - val_acc: 0.9860\n",
      "Epoch 4/20\n",
      "375/375 [==============================] - 1s 4ms/step - loss: 0.0388 - acc: 0.9878 - val_loss: 0.0452 - val_acc: 0.9857\n",
      "Epoch 5/20\n",
      "375/375 [==============================] - 1s 4ms/step - loss: 0.0303 - acc: 0.9904 - val_loss: 0.0379 - val_acc: 0.9896\n",
      "Epoch 6/20\n",
      "375/375 [==============================] - 1s 4ms/step - loss: 0.0247 - acc: 0.9923 - val_loss: 0.0406 - val_acc: 0.9884\n",
      "Epoch 7/20\n",
      "375/375 [==============================] - 1s 4ms/step - loss: 0.0208 - acc: 0.9931 - val_loss: 0.0415 - val_acc: 0.9895\n",
      "Epoch 8/20\n",
      "375/375 [==============================] - 1s 4ms/step - loss: 0.0171 - acc: 0.9949 - val_loss: 0.0390 - val_acc: 0.9893\n",
      "Epoch 9/20\n",
      "375/375 [==============================] - 1s 4ms/step - loss: 0.0127 - acc: 0.9960 - val_loss: 0.0419 - val_acc: 0.9892\n",
      "Epoch 10/20\n",
      "375/375 [==============================] - 1s 4ms/step - loss: 0.0115 - acc: 0.9963 - val_loss: 0.0435 - val_acc: 0.9893\n",
      "Epoch 11/20\n",
      "375/375 [==============================] - 1s 4ms/step - loss: 0.0091 - acc: 0.9972 - val_loss: 0.0451 - val_acc: 0.9885\n",
      "Epoch 12/20\n",
      "375/375 [==============================] - 1s 4ms/step - loss: 0.0100 - acc: 0.9968 - val_loss: 0.0498 - val_acc: 0.9893\n",
      "Epoch 13/20\n",
      "375/375 [==============================] - 1s 4ms/step - loss: 0.0086 - acc: 0.9973 - val_loss: 0.0463 - val_acc: 0.9886\n",
      "Epoch 14/20\n",
      "375/375 [==============================] - 1s 4ms/step - loss: 0.0077 - acc: 0.9975 - val_loss: 0.0528 - val_acc: 0.9885\n",
      "Epoch 15/20\n",
      "375/375 [==============================] - 1s 4ms/step - loss: 0.0070 - acc: 0.9975 - val_loss: 0.0454 - val_acc: 0.9900\n",
      "Epoch 16/20\n",
      "375/375 [==============================] - 1s 4ms/step - loss: 0.0040 - acc: 0.9989 - val_loss: 0.0542 - val_acc: 0.9887\n",
      "Epoch 17/20\n",
      "375/375 [==============================] - 1s 4ms/step - loss: 0.0045 - acc: 0.9986 - val_loss: 0.0557 - val_acc: 0.9875\n",
      "Epoch 18/20\n",
      "375/375 [==============================] - 1s 4ms/step - loss: 0.0042 - acc: 0.9985 - val_loss: 0.0608 - val_acc: 0.9885\n",
      "Epoch 19/20\n",
      "375/375 [==============================] - 1s 4ms/step - loss: 0.0054 - acc: 0.9983 - val_loss: 0.0553 - val_acc: 0.9887\n",
      "Epoch 20/20\n",
      "375/375 [==============================] - 1s 4ms/step - loss: 0.0071 - acc: 0.9976 - val_loss: 0.0481 - val_acc: 0.9907\n"
     ]
    },
    {
     "data": {
      "text/plain": [
       "<keras.callbacks.History at 0x1eb97736488>"
      ]
     },
     "execution_count": 11,
     "metadata": {},
     "output_type": "execute_result"
    }
   ],
   "source": [
    "(X_train , Y_train), (X_test, Y_test) = mnist.load_data()\n",
    "\n",
    "X_train = X_train / 255.0\n",
    "X_test = X_test / 255.0\n",
    "\n",
    "Y_train = to_categorical(Y_train)\n",
    "Y_test = to_categorical(Y_test)\n",
    "\n",
    "\n",
    "model = Sequential([\n",
    "    layers.Conv2D(32, (3, 3), activation = 'relu', padding = 'same', input_shape = (28, 28, 1)),\n",
    "    layers.MaxPooling2D(2),\n",
    "\n",
    "    layers.Conv2D(32, (3, 3), activation = 'relu', padding = 'same', input_shape = (28, 28, 1)),\n",
    "    layers.MaxPooling2D(2),\n",
    "    \n",
    "    layers.Flatten(),\n",
    "    layers.Dense(100, activation = 'relu'),\n",
    "    layers.Dense(10, activation = 'softmax')\n",
    "])\n",
    "\n",
    "model.compile(optimizer = 'adam', loss = 'categorical_crossentropy', metrics = ['acc'])\n",
    "\n",
    "callbacks = [\n",
    "    tf.keras.callbacks.TensorBoard (log_dir = 'my_log_dir',\n",
    "                                   histogram_freq = 1,\n",
    "                                   embeddings_freq = 1)\n",
    "]\n",
    "\n",
    "model.fit(X_train, Y_train, validation_split = 0.2, epochs = 20, batch_size = 128, callbacks = callbacks)"
   ]
  },
  {
   "cell_type": "code",
   "execution_count": null,
   "id": "204eca76",
   "metadata": {},
   "outputs": [],
   "source": []
  }
 ],
 "metadata": {
  "kernelspec": {
   "display_name": "Python 3 (ipykernel)",
   "language": "python",
   "name": "python3"
  },
  "language_info": {
   "codemirror_mode": {
    "name": "ipython",
    "version": 3
   },
   "file_extension": ".py",
   "mimetype": "text/x-python",
   "name": "python",
   "nbconvert_exporter": "python",
   "pygments_lexer": "ipython3",
   "version": "3.7.11"
  }
 },
 "nbformat": 4,
 "nbformat_minor": 5
}
