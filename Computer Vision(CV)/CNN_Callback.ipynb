{
  "nbformat": 4,
  "nbformat_minor": 0,
  "metadata": {
    "colab": {
      "name": "Untitled16.ipynb",
      "provenance": []
    },
    "kernelspec": {
      "name": "python3",
      "display_name": "Python 3"
    },
    "language_info": {
      "name": "python"
    }
  },
  "cells": [
    {
      "cell_type": "code",
      "execution_count": 3,
      "metadata": {
        "id": "aHCel0S6NIbe"
      },
      "outputs": [],
      "source": [
        "import numpy as np\n",
        "import pandas as pd\n",
        "import tensorflow as tf\n",
        "import matplotlib.pyplot as plt\n",
        "from sklearn.model_selection import train_test_split\n",
        "from tensorflow.keras.layers import Layer, Input, Dense, Flatten\n",
        "from tensorflow.keras.models import Model\n",
        "from tensorflow.keras.utils import to_categorical\n",
        "from tensorflow.keras.optimizers import Adam\n",
        "from tensorflow.keras.datasets import fashion_mnist\n",
        "\n",
        "# Function API 생성하기\n",
        "\n",
        "INPUT_SIZE = 28\n",
        "\n",
        "def create_model():\n",
        "  input_tensor = Input(shape = (INPUT_SIZE, INPUT_SIZE))\n",
        "  x = Flatten()(input_tensor)\n",
        "  x = Dense(100, activation = 'relu')(x)\n",
        "  x = Dense(30, activation = 'relu')(x)\n",
        "  output = Dense(10, activation = 'softmax')(x)\n",
        "\n",
        "  model = Model(inputs = input_tensor, outputs = output)\n",
        "\n",
        "  return model"
      ]
    },
    {
      "cell_type": "code",
      "source": [
        "def get_preprocessed_data(images, labels):\n",
        "  images = np.array(images/255.0, dtype = np.float32)\n",
        "  labels = np.array(labels, dtype = np.float32)\n",
        "\n",
        "  return images, labels\n",
        "\n",
        "def get_preprocessed_ohe(images, labels):\n",
        "  images, labels = get_preprocessed_data(images, labels)\n",
        "  oh_labels = to_categorical(labels)\n",
        "\n",
        "  return images, oh_labels\n",
        "\n",
        "def get_train_val_test_set(train_images, train_labels, test_images, test_labels, valid_size = 0.15, random_state = 2022):\n",
        "  train_images, train_oh_labels = get_preprocessed_ohe(train_images, train_labels)\n",
        "  test_images, test_oh_labels = get_preprocessed_ohe(test_images, test_labels)\n",
        "\n",
        "  train_images, val_images, train_oh_labels, val_oh_labels = train_test_split(train_images, train_oh_labels, test_size = valid_size, random_state = random_state)\n",
        "  \n",
        "  return (train_images, train_oh_labels), (val_images, val_oh_labels), (test_images, test_oh_labels)\n"
      ],
      "metadata": {
        "id": "CWxnjU91TuJ3"
      },
      "execution_count": 4,
      "outputs": []
    },
    {
      "cell_type": "code",
      "source": [
        "# 모델 형성하기\n",
        "model = create_model()\n",
        "(train_images, train_labels), (test_images, test_labels) = fashion_mnist.load_data()\n",
        "# 데이터 불러오기\n",
        "(train_images, train_oh_labels), (val_images, val_oh_labels), (test_images, test_oh_labels) = get_train_val_test_set(train_images, train_labels, test_images, test_labels, valid_size = 0.15, random_state = 2022)\n",
        "# 모델 \n",
        "model.compile(optimizer = Adam(0.001), loss = 'categorical_crossentropy', metrics = ['accuracy'])\n"
      ],
      "metadata": {
        "colab": {
          "base_uri": "https://localhost:8080/"
        },
        "id": "HAXG88LtXjF5",
        "outputId": "4eabf296-5022-489d-b17f-4c645a01c699"
      },
      "execution_count": 10,
      "outputs": [
        {
          "output_type": "stream",
          "name": "stdout",
          "text": [
            "Downloading data from https://storage.googleapis.com/tensorflow/tf-keras-datasets/train-labels-idx1-ubyte.gz\n",
            "32768/29515 [=================================] - 0s 0us/step\n",
            "40960/29515 [=========================================] - 0s 0us/step\n",
            "Downloading data from https://storage.googleapis.com/tensorflow/tf-keras-datasets/train-images-idx3-ubyte.gz\n",
            "26427392/26421880 [==============================] - 0s 0us/step\n",
            "26435584/26421880 [==============================] - 0s 0us/step\n",
            "Downloading data from https://storage.googleapis.com/tensorflow/tf-keras-datasets/t10k-labels-idx1-ubyte.gz\n",
            "16384/5148 [===============================================================================================] - 0s 0us/step\n",
            "Downloading data from https://storage.googleapis.com/tensorflow/tf-keras-datasets/t10k-images-idx3-ubyte.gz\n",
            "4423680/4422102 [==============================] - 0s 0us/step\n",
            "4431872/4422102 [==============================] - 0s 0us/step\n"
          ]
        }
      ]
    },
    {
      "cell_type": "code",
      "source": [
        "from tensorflow.keras.callbacks import ModelCheckpoint, ReduceLROnPlateau, EarlyStopping\n",
        "\n",
        "mcp_cb = ModelCheckpoint(filepath = '/content/weights.weights.{epoch:02d}-{val_loss:.2f}.hdf5', moiter = 'val_loss', save_bset_only = True, save_weights_only= True, mode = 'min', period = 1, verbose = 0)\n",
        "rlp_cb = ReduceLROnPlateau(moniter = 'val_loss', factor = 0.3, patience = 5, mode = 'min', period = 1, verbose = 0)\n",
        "es_cb = EarlyStopping(monitor='val_loss', patience = 10, mode = 'min', verbose = 1)\n",
        "\n",
        "history = model.fit(x = train_images, y = train_oh_labels, validation_data= (val_images, val_oh_labels), batch_size = 32, epochs = 40, callbacks = [mcp_cb, rlp_cb, es_cb], verbose = 1)"
      ],
      "metadata": {
        "colab": {
          "base_uri": "https://localhost:8080/"
        },
        "id": "YT44RHfJd0Av",
        "outputId": "fb57bc54-4020-4ade-8d55-f1826b45c1db"
      },
      "execution_count": 13,
      "outputs": [
        {
          "output_type": "stream",
          "name": "stdout",
          "text": [
            "WARNING:tensorflow:`period` argument is deprecated. Please use `save_freq` to specify the frequency in number of batches seen.\n",
            "Epoch 1/40\n",
            "1594/1594 [==============================] - 8s 4ms/step - loss: 0.5397 - accuracy: 0.8101 - val_loss: 0.4294 - val_accuracy: 0.8461 - lr: 0.0010\n",
            "Epoch 2/40\n",
            "1594/1594 [==============================] - 6s 4ms/step - loss: 0.3924 - accuracy: 0.8591 - val_loss: 0.3953 - val_accuracy: 0.8572 - lr: 0.0010\n",
            "Epoch 3/40\n",
            "1594/1594 [==============================] - 6s 4ms/step - loss: 0.3512 - accuracy: 0.8725 - val_loss: 0.3538 - val_accuracy: 0.8677 - lr: 0.0010\n",
            "Epoch 4/40\n",
            "1594/1594 [==============================] - 7s 5ms/step - loss: 0.3274 - accuracy: 0.8797 - val_loss: 0.3413 - val_accuracy: 0.8781 - lr: 0.0010\n",
            "Epoch 5/40\n",
            "1594/1594 [==============================] - 7s 4ms/step - loss: 0.3091 - accuracy: 0.8853 - val_loss: 0.3514 - val_accuracy: 0.8763 - lr: 0.0010\n",
            "Epoch 6/40\n",
            "1594/1594 [==============================] - 7s 5ms/step - loss: 0.2941 - accuracy: 0.8908 - val_loss: 0.3283 - val_accuracy: 0.8840 - lr: 0.0010\n",
            "Epoch 7/40\n",
            "1594/1594 [==============================] - 7s 4ms/step - loss: 0.2810 - accuracy: 0.8965 - val_loss: 0.3198 - val_accuracy: 0.8821 - lr: 0.0010\n",
            "Epoch 8/40\n",
            "1594/1594 [==============================] - 7s 4ms/step - loss: 0.2715 - accuracy: 0.8985 - val_loss: 0.3171 - val_accuracy: 0.8863 - lr: 0.0010\n",
            "Epoch 9/40\n",
            "1594/1594 [==============================] - 7s 5ms/step - loss: 0.2595 - accuracy: 0.9024 - val_loss: 0.3131 - val_accuracy: 0.8879 - lr: 0.0010\n",
            "Epoch 10/40\n",
            "1594/1594 [==============================] - 7s 4ms/step - loss: 0.2510 - accuracy: 0.9055 - val_loss: 0.3218 - val_accuracy: 0.8859 - lr: 0.0010\n",
            "Epoch 11/40\n",
            "1594/1594 [==============================] - 7s 4ms/step - loss: 0.2443 - accuracy: 0.9068 - val_loss: 0.3127 - val_accuracy: 0.8888 - lr: 0.0010\n",
            "Epoch 12/40\n",
            "1594/1594 [==============================] - 7s 4ms/step - loss: 0.2366 - accuracy: 0.9109 - val_loss: 0.3183 - val_accuracy: 0.8904 - lr: 0.0010\n",
            "Epoch 13/40\n",
            "1594/1594 [==============================] - 7s 4ms/step - loss: 0.2295 - accuracy: 0.9130 - val_loss: 0.3350 - val_accuracy: 0.8847 - lr: 0.0010\n",
            "Epoch 14/40\n",
            "1594/1594 [==============================] - 7s 4ms/step - loss: 0.2234 - accuracy: 0.9158 - val_loss: 0.3199 - val_accuracy: 0.8914 - lr: 0.0010\n",
            "Epoch 15/40\n",
            "1594/1594 [==============================] - 7s 4ms/step - loss: 0.2176 - accuracy: 0.9178 - val_loss: 0.3473 - val_accuracy: 0.8777 - lr: 0.0010\n",
            "Epoch 16/40\n",
            "1594/1594 [==============================] - 7s 4ms/step - loss: 0.2139 - accuracy: 0.9184 - val_loss: 0.3126 - val_accuracy: 0.8947 - lr: 0.0010\n",
            "Epoch 17/40\n",
            "1594/1594 [==============================] - 7s 4ms/step - loss: 0.1728 - accuracy: 0.9358 - val_loss: 0.3137 - val_accuracy: 0.8980 - lr: 3.0000e-04\n",
            "Epoch 18/40\n",
            "1594/1594 [==============================] - 6s 4ms/step - loss: 0.1680 - accuracy: 0.9368 - val_loss: 0.3074 - val_accuracy: 0.8987 - lr: 3.0000e-04\n",
            "Epoch 19/40\n",
            "1594/1594 [==============================] - 7s 4ms/step - loss: 0.1629 - accuracy: 0.9400 - val_loss: 0.3157 - val_accuracy: 0.8989 - lr: 3.0000e-04\n",
            "Epoch 20/40\n",
            "1594/1594 [==============================] - 7s 4ms/step - loss: 0.1589 - accuracy: 0.9408 - val_loss: 0.3197 - val_accuracy: 0.8981 - lr: 3.0000e-04\n",
            "Epoch 21/40\n",
            "1594/1594 [==============================] - 7s 5ms/step - loss: 0.1556 - accuracy: 0.9423 - val_loss: 0.3218 - val_accuracy: 0.8983 - lr: 3.0000e-04\n",
            "Epoch 22/40\n",
            "1594/1594 [==============================] - 7s 4ms/step - loss: 0.1520 - accuracy: 0.9439 - val_loss: 0.3231 - val_accuracy: 0.8980 - lr: 3.0000e-04\n",
            "Epoch 23/40\n",
            "1594/1594 [==============================] - 7s 4ms/step - loss: 0.1484 - accuracy: 0.9449 - val_loss: 0.3273 - val_accuracy: 0.9007 - lr: 3.0000e-04\n",
            "Epoch 24/40\n",
            "1594/1594 [==============================] - 6s 4ms/step - loss: 0.1360 - accuracy: 0.9510 - val_loss: 0.3262 - val_accuracy: 0.9013 - lr: 9.0000e-05\n",
            "Epoch 25/40\n",
            "1594/1594 [==============================] - 6s 4ms/step - loss: 0.1336 - accuracy: 0.9516 - val_loss: 0.3252 - val_accuracy: 0.8998 - lr: 9.0000e-05\n",
            "Epoch 26/40\n",
            "1594/1594 [==============================] - 7s 4ms/step - loss: 0.1325 - accuracy: 0.9527 - val_loss: 0.3285 - val_accuracy: 0.8984 - lr: 9.0000e-05\n",
            "Epoch 27/40\n",
            "1594/1594 [==============================] - 7s 4ms/step - loss: 0.1308 - accuracy: 0.9530 - val_loss: 0.3294 - val_accuracy: 0.8980 - lr: 9.0000e-05\n",
            "Epoch 28/40\n",
            "1594/1594 [==============================] - 7s 4ms/step - loss: 0.1297 - accuracy: 0.9539 - val_loss: 0.3334 - val_accuracy: 0.8991 - lr: 9.0000e-05\n",
            "Epoch 00028: early stopping\n"
          ]
        }
      ]
    },
    {
      "cell_type": "code",
      "source": [
        "model.evaluate(test_images, test_oh_labels)"
      ],
      "metadata": {
        "colab": {
          "base_uri": "https://localhost:8080/"
        },
        "id": "5SQocbr4eKG9",
        "outputId": "33c61228-5a2b-4beb-c336-d1401614ca53"
      },
      "execution_count": 14,
      "outputs": [
        {
          "output_type": "stream",
          "name": "stdout",
          "text": [
            "313/313 [==============================] - 1s 2ms/step - loss: 0.3554 - accuracy: 0.8978\n"
          ]
        },
        {
          "output_type": "execute_result",
          "data": {
            "text/plain": [
              "[0.3553667664527893, 0.8978000283241272]"
            ]
          },
          "metadata": {},
          "execution_count": 14
        }
      ]
    },
    {
      "cell_type": "code",
      "source": [
        ""
      ],
      "metadata": {
        "id": "WFUcOsG2fPUj"
      },
      "execution_count": null,
      "outputs": []
    }
  ]
}