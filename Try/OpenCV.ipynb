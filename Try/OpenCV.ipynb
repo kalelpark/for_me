{
 "cells": [
  {
   "cell_type": "code",
   "execution_count": 1,
   "id": "7de5c536",
   "metadata": {},
   "outputs": [],
   "source": [
    "import cv2"
   ]
  },
  {
   "cell_type": "markdown",
   "id": "70156393",
   "metadata": {},
   "source": [
    "# 1. 이미지 출력"
   ]
  },
  {
   "cell_type": "code",
   "execution_count": 4,
   "id": "b5cb7e05",
   "metadata": {},
   "outputs": [],
   "source": [
    "img = cv2.imread(\"./pirpo.png\")\n",
    "cv2.imshow('img', img)\n",
    "cv2.waitKey(0)   # 지정된 시간 동안 사용자 키 입력 대기합니다., 계속 띄우고 싶다면 0 으로 합니다.\n",
    "# key = cv2.waitKey를 활용하면 내가 어떤 ASCI 코드를 누른 것임을 알 수 있습니다.\n",
    "cv2.destroyAllWindows()"
   ]
  },
  {
   "cell_type": "markdown",
   "id": "76d071e6",
   "metadata": {},
   "source": [
    "# 읽기 옵션\n",
    "- cv2.IMREAD_COLOR : 컬러 이미지를 그대로 가져옵니다. (투명 영역은 무시합니다.) (기본값)\n",
    "- cv2.IMREAD_GRAYSCALE :  흑백 이미지\n",
    "- cv2.IMREAD_UNCHANGED :  투명 영역까지 포함"
   ]
  },
  {
   "cell_type": "code",
   "execution_count": 5,
   "id": "31af3271",
   "metadata": {},
   "outputs": [],
   "source": [
    "import cv2\n",
    "img_color = cv2.imread('./pirpo.png', cv2.IMREAD_COLOR)\n",
    "img_gray = cv2.imread('./pirpo.png', cv2.IMREAD_GRAYSCALE)\n",
    "img_unchanged = cv2.imread('./pirpo.png', cv2.IMREAD_UNCHANGED)\n",
    "\n",
    "cv2.imshow('img_color', img_color)\n",
    "cv2.imshow('img_gray', img_gray)\n",
    "cv2.imshow('img_unchanged', img_unchanged)\n",
    "\n",
    "cv2.waitKey(0)\n",
    "cv2.destroyAllWindows()"
   ]
  },
  {
   "cell_type": "markdown",
   "id": "cb19281d",
   "metadata": {},
   "source": [
    "# Shape\n",
    "- 이미지의 height, width, channel 정보"
   ]
  },
  {
   "cell_type": "code",
   "execution_count": 6,
   "id": "cc894e6d",
   "metadata": {},
   "outputs": [
    {
     "data": {
      "text/plain": [
       "(368, 480, 3)"
      ]
     },
     "execution_count": 6,
     "metadata": {},
     "output_type": "execute_result"
    }
   ],
   "source": [
    "import cv2\n",
    "img = cv2.imread('./pirpo.png')\n",
    "img.shape # 세로, 가로, Channel"
   ]
  },
  {
   "cell_type": "markdown",
   "id": "fb57bc53",
   "metadata": {},
   "source": [
    "# 동영상 읽기"
   ]
  },
  {
   "cell_type": "code",
   "execution_count": 9,
   "id": "d109ebdc",
   "metadata": {},
   "outputs": [
    {
     "name": "stdout",
     "output_type": "stream",
     "text": [
      "사용자 입력에 의해 종료됩니다.\n"
     ]
    }
   ],
   "source": [
    "import cv2\n",
    "cap = cv2.VideoCapture('./video.mp4')\n",
    "\n",
    "while cap.isOpened(): # 파일 열려있는지?\n",
    "    ret, frame = cap.read()  # 1성공 여부,  frame : 이미지의 프레임\n",
    "    if not ret:\n",
    "        print('더이상 프레임을 가져올 수 없습니다.')\n",
    "        break\n",
    "    \n",
    "    cv2.imshow('video', frame)\n",
    "    # 아스키와 동일\n",
    "    \n",
    "    if cv2.waitKey(25) == ord('q'):           # Frame\n",
    "        print('사용자 입력에 의해 종료됩니다.')\n",
    "        break\n",
    "    \n",
    "cap.release()  # 메모리 해제\n",
    "cv2.destroyAllWindows() # 모든 창 닫기"
   ]
  },
  {
   "cell_type": "markdown",
   "id": "4ac42169",
   "metadata": {},
   "source": [
    "# 카메라 출력"
   ]
  },
  {
   "cell_type": "code",
   "execution_count": null,
   "id": "a6ff68ab",
   "metadata": {},
   "outputs": [],
   "source": [
    "import cv2\n",
    "cap = cv2.VideoCapture()  # 카메라 장치\n",
    "\n",
    "if not cap.isOpened():\n",
    "    exit() # 프로그램 종료\n",
    "\n",
    "while True:\n",
    "    ret, frame = cap.read()\n",
    "    \n",
    "    if not ret:\n",
    "        break\n",
    "    \n",
    "    cv2.imshow('camera', frame)\n",
    "    if cv2.waitKey(1) == ord('q'):\n",
    "        print('사용자가 종료')\n",
    "        break\n",
    "\n",
    "cap.release()\n",
    "cv2.destroyAllWindows()"
   ]
  },
  {
   "cell_type": "markdown",
   "id": "16c25750",
   "metadata": {},
   "source": [
    "# 도형 그리기"
   ]
  },
  {
   "cell_type": "code",
   "execution_count": 10,
   "id": "29f8619d",
   "metadata": {
    "scrolled": true
   },
   "outputs": [
    {
     "name": "stdout",
     "output_type": "stream",
     "text": [
      "[[[0 0 0]\n",
      "  [0 0 0]\n",
      "  [0 0 0]\n",
      "  ...\n",
      "  [0 0 0]\n",
      "  [0 0 0]\n",
      "  [0 0 0]]\n",
      "\n",
      " [[0 0 0]\n",
      "  [0 0 0]\n",
      "  [0 0 0]\n",
      "  ...\n",
      "  [0 0 0]\n",
      "  [0 0 0]\n",
      "  [0 0 0]]\n",
      "\n",
      " [[0 0 0]\n",
      "  [0 0 0]\n",
      "  [0 0 0]\n",
      "  ...\n",
      "  [0 0 0]\n",
      "  [0 0 0]\n",
      "  [0 0 0]]\n",
      "\n",
      " ...\n",
      "\n",
      " [[0 0 0]\n",
      "  [0 0 0]\n",
      "  [0 0 0]\n",
      "  ...\n",
      "  [0 0 0]\n",
      "  [0 0 0]\n",
      "  [0 0 0]]\n",
      "\n",
      " [[0 0 0]\n",
      "  [0 0 0]\n",
      "  [0 0 0]\n",
      "  ...\n",
      "  [0 0 0]\n",
      "  [0 0 0]\n",
      "  [0 0 0]]\n",
      "\n",
      " [[0 0 0]\n",
      "  [0 0 0]\n",
      "  [0 0 0]\n",
      "  ...\n",
      "  [0 0 0]\n",
      "  [0 0 0]\n",
      "  [0 0 0]]]\n"
     ]
    }
   ],
   "source": [
    "import cv2\n",
    "import numpy as np\n",
    "\n",
    "# 세로, 가로 480 * 640 channel 3\n",
    "img = np.zeros((480, 640, 3), dtype = np.uint8)\n",
    "img[:] = (255, 255, 255) # RGB 모두 하얗색\n",
    "print(img)"
   ]
  },
  {
   "cell_type": "code",
   "execution_count": 11,
   "id": "4e6be2d3",
   "metadata": {},
   "outputs": [],
   "source": [
    "cv2.imshow('img', img)\n",
    "cv2.waitKey(0)\n",
    "cv2.destroyAllWindows()"
   ]
  },
  {
   "cell_type": "markdown",
   "id": "c33daecc",
   "metadata": {},
   "source": [
    "## 일부 영역 색칠"
   ]
  },
  {
   "cell_type": "code",
   "execution_count": 12,
   "id": "b85ab224",
   "metadata": {},
   "outputs": [],
   "source": [
    "import cv2\n",
    "import numpy as np\n",
    "img = np.zeros((480,640, 3), dtype = np.uint8)\n",
    "img[100:200, 200:300] = (255, 255, 255)\n",
    "# 세로 영역, 가로 영역 \n",
    "cv2.imshow('img', img)\n",
    "cv2.waitKey(0)\n",
    "cv2.destroyAllWindows()"
   ]
  },
  {
   "attachments": {
    "image.png": {
     "image/png": "[encoded data removed]"
    }
   },
   "cell_type": "markdown",
   "id": "4799295a",
   "metadata": {},
   "source": [
    "# 직선\n",
    "\n",
    "- 직선의 종류\n",
    "    - cv2.LINE_4 : 상하좌우 4방향으로 연결된 선\n",
    "    - cv2.LINE_8 : 대각선으로 포함된 8방향으로 연결된 선\n",
    "    - cv2.LINE_AA : 부드러운 선(anti-aliasing)\n",
    "<img src = 'attachment:image.png'>    "
   ]
  },
  {
   "cell_type": "code",
   "execution_count": 13,
   "id": "ce488665",
   "metadata": {},
   "outputs": [],
   "source": [
    "import cv2\n",
    "import numpy as np\n",
    "img = np.zeros((480,640, 3), dtype = np.uint8)\n",
    "\n",
    "COLOR = ((0, 255, 255))\n",
    "THICKNESS = 3 # 두께\n",
    "# x , y\n",
    "cv2.line(img, (50, 100), (400, 50), COLOR, THICKNESS, cv2.LINE_8)\n",
    "# 그림위치, 시작점, 끝점, 색상, 두께, 선 두께\n",
    "\n",
    "cv2.imshow('img', img)\n",
    "cv2.waitKey(0)\n",
    "cv2.destroyAllWindows()"
   ]
  },
  {
   "cell_type": "code",
   "execution_count": 14,
   "id": "fb7e4482",
   "metadata": {},
   "outputs": [],
   "source": [
    "import cv2\n",
    "import numpy as np\n",
    "img = np.zeros((480,640, 3), dtype = np.uint8)\n",
    "\n",
    "COLOR = ((0, 255, 255))\n",
    "THICKNESS = 3 # 두께\n",
    "# x , y\n",
    "cv2.line(img, (50, 100), (400, 50), COLOR, THICKNESS, cv2.LINE_8)\n",
    "cv2.line(img, (50, 200), (400, 150), COLOR, THICKNESS, cv2.LINE_4)\n",
    "cv2.line(img, (50, 300), (400, 250), COLOR, THICKNESS, cv2.LINE_AA)\n",
    "# 그림위치, 시작점, 끝점, 색상, 두께, 선 두께\n",
    "\n",
    "cv2.imshow('img', img)\n",
    "cv2.waitKey(0)\n",
    "cv2.destroyAllWindows()"
   ]
  },
  {
   "cell_type": "markdown",
   "id": "634b85d9",
   "metadata": {},
   "source": [
    "# 원"
   ]
  },
  {
   "cell_type": "code",
   "execution_count": 17,
   "id": "ba9cbafb",
   "metadata": {},
   "outputs": [],
   "source": [
    "import cv2\n",
    "import numpy as np\n",
    "img = np.zeros((480,640, 3), dtype = np.uint8)\n",
    "\n",
    "COLOR = ((255, 255, 0))\n",
    "THICKNESS = 10 # 두께\n",
    "# x , y\n",
    "\n",
    "RADIUS = 50\n",
    "\n",
    "cv2.circle(img, (200, 100), RADIUS, COLOR, THICKNESS, cv2.LINE_AA)\n",
    "# 그림, 원의 중심, 반지름, 색상, 두께, 선\n",
    "cv2.circle(img, (400, 100), RADIUS, COLOR, cv2.FILLED, cv2.LINE_AA)\n",
    "# 속이 찬 원\n",
    "cv2.imshow('img', img)\n",
    "cv2.waitKey(0)\n",
    "cv2.destroyAllWindows()"
   ]
  },
  {
   "cell_type": "markdown",
   "id": "61955413",
   "metadata": {},
   "source": [
    "# 사각형"
   ]
  },
  {
   "cell_type": "code",
   "execution_count": 21,
   "id": "28a9beda",
   "metadata": {},
   "outputs": [],
   "source": [
    "import cv2\n",
    "import numpy as np\n",
    "img = np.zeros((480,640, 3), dtype = np.uint8)\n",
    "\n",
    "COLOR = ((255, 255, 0))\n",
    "THICKNESS = 10 # 두께\n",
    "# x , y\n",
    "RADIUS = 50\n",
    "\n",
    "cv2.rectangle(img, (100, 100), (200, 200), COLOR, THICKNESS)\n",
    "# 그림, 좌측 상단 좌표, 우측 하단 좌표, 색상, 선\n",
    "cv2.rectangle(img, (300, 100), (400, 200), COLOR, cv2.FILLED)\n",
    "# 속이 찬 원\n",
    "cv2.imshow('img', img)\n",
    "cv2.waitKey(0)\n",
    "cv2.destroyAllWindows()"
   ]
  },
  {
   "cell_type": "markdown",
   "id": "5e966e5a",
   "metadata": {},
   "source": [
    "# 다각형"
   ]
  },
  {
   "cell_type": "code",
   "execution_count": 26,
   "id": "47e5aac5",
   "metadata": {},
   "outputs": [],
   "source": [
    "import cv2\n",
    "import numpy as np\n",
    "img = np.zeros((480,640, 3), dtype = np.uint8)\n",
    "\n",
    "COLOR = ((0, 0, 255))  # BGR 빨강\n",
    "THICKNESS = 10 # 두께\n",
    "# x , y\n",
    "\n",
    "# 3개의 점을 리스트로 감싼 것\n",
    "pts1 = np.array([[100, 100], [200, 100], [100, 200]])\n",
    "pts2 = np.array([[200, 100], [300, 100], [300, 200]])\n",
    "# cv2.polylines(img, [pts1], True, COLOR, THICKNESS, cv2.LINE_AA)\n",
    "# True , False 열린도형 닫힌 도형 False  열린도형\n",
    "# cv2.polylines(img, [pts2], True, COLOR, THICKNESS, cv2.LINE_AA)\n",
    "# cv2.polylines(img, [pts1, pts2], True, COLOR, THICKNESS, cv2.LINE_AA)\n",
    "# 그림위치, 그림 좌표들 닫힘 여부, 색깔, 두께, 선 종류\n",
    "# 리스트 형태로 넣을 수 있다,\n",
    "# 속이 찬 도형\n",
    "pts3 = np.array([[ [100, 300], [200, 300], [100, 400] ], [ [200, 300], [300, 300], [300, 400] ]])\n",
    "cv2.fillPoly(img, pts3, COLOR, cv2.LINE_AA)\n",
    "# 그림위치, 좌표, 색상, 줄\n",
    "\n",
    "cv2.imshow('img', img)\n",
    "cv2.waitKey(0)\n",
    "cv2.destroyAllWindows()"
   ]
  }
 ],
 "metadata": {
  "kernelspec": {
   "display_name": "Python 3 (ipykernel)",
   "language": "python",
   "name": "python3"
  },
  "language_info": {
   "codemirror_mode": {
    "name": "ipython",
    "version": 3
   },
   "file_extension": ".py",
   "mimetype": "text/x-python",
   "name": "python",
   "nbconvert_exporter": "python",
   "pygments_lexer": "ipython3",
   "version": "3.9.7"
  }
 },
 "nbformat": 4,
 "nbformat_minor": 5
}
